{
  "nbformat": 4,
  "nbformat_minor": 0,
  "metadata": {
    "colab": {
      "provenance": []
    },
    "kernelspec": {
      "name": "python3",
      "display_name": "Python 3"
    },
    "language_info": {
      "name": "python"
    }
  },
  "cells": [
    {
      "cell_type": "markdown",
      "source": [
        "# Objective: To understand and perform Measurement system analysis."
      ],
      "metadata": {
        "id": "YC73tbkJKcvy"
      }
    },
    {
      "cell_type": "markdown",
      "source": [
        "## Exercise :\n",
        "* What kind of data is shown in Table?\n",
        "Which method would you use for measurement system analysis (MSA) to verify the repeatability\n",
        "and reproducibility of QA results? Conduct the appropriate MSA."
      ],
      "metadata": {
        "id": "gHkVW0ZsK0jM"
      }
    },
    {
      "cell_type": "code",
      "source": [
        "import pandas as pd\n",
        "import numpy as np\n"
      ],
      "metadata": {
        "id": "ea17mg9U-Vs6"
      },
      "execution_count": 2,
      "outputs": []
    },
    {
      "cell_type": "code",
      "source": [
        "msa_df = pd.read_csv(\"https://raw.githubusercontent.com/raviteja-padala/Six_Sigma/main/Bank_Call_Center_project/Six%20sigma%20-%20Bank%20call%20MSA%20dataset.csv\")\n",
        "\n",
        "msa_df.style.hide(axis=\"index\")"
      ],
      "metadata": {
        "colab": {
          "base_uri": "https://localhost:8080/",
          "height": 676
        },
        "id": "Kmq0Fk1e-KHk",
        "outputId": "2386b9f0-0455-436d-b096-05b419366429"
      },
      "execution_count": 3,
      "outputs": [
        {
          "output_type": "execute_result",
          "data": {
            "text/plain": [
              "<pandas.io.formats.style.Styler at 0x7a4f5620d4e0>"
            ],
            "text/html": [
              "<style type=\"text/css\">\n",
              "</style>\n",
              "<table id=\"T_cdbab\" class=\"dataframe\">\n",
              "  <thead>\n",
              "    <tr>\n",
              "      <th id=\"T_cdbab_level0_col0\" class=\"col_heading level0 col0\" >Voice Sample</th>\n",
              "      <th id=\"T_cdbab_level0_col1\" class=\"col_heading level0 col1\" >Master Appraiser</th>\n",
              "      <th id=\"T_cdbab_level0_col2\" class=\"col_heading level0 col2\" >John Trial 1</th>\n",
              "      <th id=\"T_cdbab_level0_col3\" class=\"col_heading level0 col3\" >John Trial 2</th>\n",
              "      <th id=\"T_cdbab_level0_col4\" class=\"col_heading level0 col4\" >Miranda Trial 1</th>\n",
              "      <th id=\"T_cdbab_level0_col5\" class=\"col_heading level0 col5\" >Miranda Trial 2</th>\n",
              "    </tr>\n",
              "  </thead>\n",
              "  <tbody>\n",
              "    <tr>\n",
              "      <td id=\"T_cdbab_row0_col0\" class=\"data row0 col0\" >1</td>\n",
              "      <td id=\"T_cdbab_row0_col1\" class=\"data row0 col1\" >3</td>\n",
              "      <td id=\"T_cdbab_row0_col2\" class=\"data row0 col2\" >3</td>\n",
              "      <td id=\"T_cdbab_row0_col3\" class=\"data row0 col3\" >2</td>\n",
              "      <td id=\"T_cdbab_row0_col4\" class=\"data row0 col4\" >3</td>\n",
              "      <td id=\"T_cdbab_row0_col5\" class=\"data row0 col5\" >3</td>\n",
              "    </tr>\n",
              "    <tr>\n",
              "      <td id=\"T_cdbab_row1_col0\" class=\"data row1 col0\" >2</td>\n",
              "      <td id=\"T_cdbab_row1_col1\" class=\"data row1 col1\" >2</td>\n",
              "      <td id=\"T_cdbab_row1_col2\" class=\"data row1 col2\" >2</td>\n",
              "      <td id=\"T_cdbab_row1_col3\" class=\"data row1 col3\" >2</td>\n",
              "      <td id=\"T_cdbab_row1_col4\" class=\"data row1 col4\" >2</td>\n",
              "      <td id=\"T_cdbab_row1_col5\" class=\"data row1 col5\" >2</td>\n",
              "    </tr>\n",
              "    <tr>\n",
              "      <td id=\"T_cdbab_row2_col0\" class=\"data row2 col0\" >3</td>\n",
              "      <td id=\"T_cdbab_row2_col1\" class=\"data row2 col1\" >2</td>\n",
              "      <td id=\"T_cdbab_row2_col2\" class=\"data row2 col2\" >2</td>\n",
              "      <td id=\"T_cdbab_row2_col3\" class=\"data row2 col3\" >2</td>\n",
              "      <td id=\"T_cdbab_row2_col4\" class=\"data row2 col4\" >2</td>\n",
              "      <td id=\"T_cdbab_row2_col5\" class=\"data row2 col5\" >2</td>\n",
              "    </tr>\n",
              "    <tr>\n",
              "      <td id=\"T_cdbab_row3_col0\" class=\"data row3 col0\" >4</td>\n",
              "      <td id=\"T_cdbab_row3_col1\" class=\"data row3 col1\" >4</td>\n",
              "      <td id=\"T_cdbab_row3_col2\" class=\"data row3 col2\" >4</td>\n",
              "      <td id=\"T_cdbab_row3_col3\" class=\"data row3 col3\" >3</td>\n",
              "      <td id=\"T_cdbab_row3_col4\" class=\"data row3 col4\" >4</td>\n",
              "      <td id=\"T_cdbab_row3_col5\" class=\"data row3 col5\" >4</td>\n",
              "    </tr>\n",
              "    <tr>\n",
              "      <td id=\"T_cdbab_row4_col0\" class=\"data row4 col0\" >5</td>\n",
              "      <td id=\"T_cdbab_row4_col1\" class=\"data row4 col1\" >2</td>\n",
              "      <td id=\"T_cdbab_row4_col2\" class=\"data row4 col2\" >1</td>\n",
              "      <td id=\"T_cdbab_row4_col3\" class=\"data row4 col3\" >1</td>\n",
              "      <td id=\"T_cdbab_row4_col4\" class=\"data row4 col4\" >1</td>\n",
              "      <td id=\"T_cdbab_row4_col5\" class=\"data row4 col5\" >1</td>\n",
              "    </tr>\n",
              "    <tr>\n",
              "      <td id=\"T_cdbab_row5_col0\" class=\"data row5 col0\" >6</td>\n",
              "      <td id=\"T_cdbab_row5_col1\" class=\"data row5 col1\" >5</td>\n",
              "      <td id=\"T_cdbab_row5_col2\" class=\"data row5 col2\" >5</td>\n",
              "      <td id=\"T_cdbab_row5_col3\" class=\"data row5 col3\" >4</td>\n",
              "      <td id=\"T_cdbab_row5_col4\" class=\"data row5 col4\" >5</td>\n",
              "      <td id=\"T_cdbab_row5_col5\" class=\"data row5 col5\" >5</td>\n",
              "    </tr>\n",
              "    <tr>\n",
              "      <td id=\"T_cdbab_row6_col0\" class=\"data row6 col0\" >7</td>\n",
              "      <td id=\"T_cdbab_row6_col1\" class=\"data row6 col1\" >4</td>\n",
              "      <td id=\"T_cdbab_row6_col2\" class=\"data row6 col2\" >4</td>\n",
              "      <td id=\"T_cdbab_row6_col3\" class=\"data row6 col3\" >4</td>\n",
              "      <td id=\"T_cdbab_row6_col4\" class=\"data row6 col4\" >5</td>\n",
              "      <td id=\"T_cdbab_row6_col5\" class=\"data row6 col5\" >4</td>\n",
              "    </tr>\n",
              "    <tr>\n",
              "      <td id=\"T_cdbab_row7_col0\" class=\"data row7 col0\" >8</td>\n",
              "      <td id=\"T_cdbab_row7_col1\" class=\"data row7 col1\" >3</td>\n",
              "      <td id=\"T_cdbab_row7_col2\" class=\"data row7 col2\" >3</td>\n",
              "      <td id=\"T_cdbab_row7_col3\" class=\"data row7 col3\" >2</td>\n",
              "      <td id=\"T_cdbab_row7_col4\" class=\"data row7 col4\" >3</td>\n",
              "      <td id=\"T_cdbab_row7_col5\" class=\"data row7 col5\" >3</td>\n",
              "    </tr>\n",
              "    <tr>\n",
              "      <td id=\"T_cdbab_row8_col0\" class=\"data row8 col0\" >9</td>\n",
              "      <td id=\"T_cdbab_row8_col1\" class=\"data row8 col1\" >3</td>\n",
              "      <td id=\"T_cdbab_row8_col2\" class=\"data row8 col2\" >3</td>\n",
              "      <td id=\"T_cdbab_row8_col3\" class=\"data row8 col3\" >3</td>\n",
              "      <td id=\"T_cdbab_row8_col4\" class=\"data row8 col4\" >3</td>\n",
              "      <td id=\"T_cdbab_row8_col5\" class=\"data row8 col5\" >3</td>\n",
              "    </tr>\n",
              "    <tr>\n",
              "      <td id=\"T_cdbab_row9_col0\" class=\"data row9 col0\" >10</td>\n",
              "      <td id=\"T_cdbab_row9_col1\" class=\"data row9 col1\" >4</td>\n",
              "      <td id=\"T_cdbab_row9_col2\" class=\"data row9 col2\" >4</td>\n",
              "      <td id=\"T_cdbab_row9_col3\" class=\"data row9 col3\" >5</td>\n",
              "      <td id=\"T_cdbab_row9_col4\" class=\"data row9 col4\" >4</td>\n",
              "      <td id=\"T_cdbab_row9_col5\" class=\"data row9 col5\" >4</td>\n",
              "    </tr>\n",
              "    <tr>\n",
              "      <td id=\"T_cdbab_row10_col0\" class=\"data row10 col0\" >11</td>\n",
              "      <td id=\"T_cdbab_row10_col1\" class=\"data row10 col1\" >2</td>\n",
              "      <td id=\"T_cdbab_row10_col2\" class=\"data row10 col2\" >2</td>\n",
              "      <td id=\"T_cdbab_row10_col3\" class=\"data row10 col3\" >1</td>\n",
              "      <td id=\"T_cdbab_row10_col4\" class=\"data row10 col4\" >2</td>\n",
              "      <td id=\"T_cdbab_row10_col5\" class=\"data row10 col5\" >2</td>\n",
              "    </tr>\n",
              "    <tr>\n",
              "      <td id=\"T_cdbab_row11_col0\" class=\"data row11 col0\" >12</td>\n",
              "      <td id=\"T_cdbab_row11_col1\" class=\"data row11 col1\" >3</td>\n",
              "      <td id=\"T_cdbab_row11_col2\" class=\"data row11 col2\" >3</td>\n",
              "      <td id=\"T_cdbab_row11_col3\" class=\"data row11 col3\" >3</td>\n",
              "      <td id=\"T_cdbab_row11_col4\" class=\"data row11 col4\" >3</td>\n",
              "      <td id=\"T_cdbab_row11_col5\" class=\"data row11 col5\" >3</td>\n",
              "    </tr>\n",
              "    <tr>\n",
              "      <td id=\"T_cdbab_row12_col0\" class=\"data row12 col0\" >13</td>\n",
              "      <td id=\"T_cdbab_row12_col1\" class=\"data row12 col1\" >5</td>\n",
              "      <td id=\"T_cdbab_row12_col2\" class=\"data row12 col2\" >5</td>\n",
              "      <td id=\"T_cdbab_row12_col3\" class=\"data row12 col3\" >4</td>\n",
              "      <td id=\"T_cdbab_row12_col4\" class=\"data row12 col4\" >5</td>\n",
              "      <td id=\"T_cdbab_row12_col5\" class=\"data row12 col5\" >5</td>\n",
              "    </tr>\n",
              "    <tr>\n",
              "      <td id=\"T_cdbab_row13_col0\" class=\"data row13 col0\" >14</td>\n",
              "      <td id=\"T_cdbab_row13_col1\" class=\"data row13 col1\" >2</td>\n",
              "      <td id=\"T_cdbab_row13_col2\" class=\"data row13 col2\" >2</td>\n",
              "      <td id=\"T_cdbab_row13_col3\" class=\"data row13 col3\" >2</td>\n",
              "      <td id=\"T_cdbab_row13_col4\" class=\"data row13 col4\" >2</td>\n",
              "      <td id=\"T_cdbab_row13_col5\" class=\"data row13 col5\" >2</td>\n",
              "    </tr>\n",
              "    <tr>\n",
              "      <td id=\"T_cdbab_row14_col0\" class=\"data row14 col0\" >15</td>\n",
              "      <td id=\"T_cdbab_row14_col1\" class=\"data row14 col1\" >2</td>\n",
              "      <td id=\"T_cdbab_row14_col2\" class=\"data row14 col2\" >2</td>\n",
              "      <td id=\"T_cdbab_row14_col3\" class=\"data row14 col3\" >2</td>\n",
              "      <td id=\"T_cdbab_row14_col4\" class=\"data row14 col4\" >2</td>\n",
              "      <td id=\"T_cdbab_row14_col5\" class=\"data row14 col5\" >2</td>\n",
              "    </tr>\n",
              "    <tr>\n",
              "      <td id=\"T_cdbab_row15_col0\" class=\"data row15 col0\" >16</td>\n",
              "      <td id=\"T_cdbab_row15_col1\" class=\"data row15 col1\" >2</td>\n",
              "      <td id=\"T_cdbab_row15_col2\" class=\"data row15 col2\" >2</td>\n",
              "      <td id=\"T_cdbab_row15_col3\" class=\"data row15 col3\" >2</td>\n",
              "      <td id=\"T_cdbab_row15_col4\" class=\"data row15 col4\" >2</td>\n",
              "      <td id=\"T_cdbab_row15_col5\" class=\"data row15 col5\" >2</td>\n",
              "    </tr>\n",
              "    <tr>\n",
              "      <td id=\"T_cdbab_row16_col0\" class=\"data row16 col0\" >17</td>\n",
              "      <td id=\"T_cdbab_row16_col1\" class=\"data row16 col1\" >2</td>\n",
              "      <td id=\"T_cdbab_row16_col2\" class=\"data row16 col2\" >2</td>\n",
              "      <td id=\"T_cdbab_row16_col3\" class=\"data row16 col3\" >2</td>\n",
              "      <td id=\"T_cdbab_row16_col4\" class=\"data row16 col4\" >2</td>\n",
              "      <td id=\"T_cdbab_row16_col5\" class=\"data row16 col5\" >2</td>\n",
              "    </tr>\n",
              "    <tr>\n",
              "      <td id=\"T_cdbab_row17_col0\" class=\"data row17 col0\" >18</td>\n",
              "      <td id=\"T_cdbab_row17_col1\" class=\"data row17 col1\" >4</td>\n",
              "      <td id=\"T_cdbab_row17_col2\" class=\"data row17 col2\" >4</td>\n",
              "      <td id=\"T_cdbab_row17_col3\" class=\"data row17 col3\" >3</td>\n",
              "      <td id=\"T_cdbab_row17_col4\" class=\"data row17 col4\" >4</td>\n",
              "      <td id=\"T_cdbab_row17_col5\" class=\"data row17 col5\" >3</td>\n",
              "    </tr>\n",
              "    <tr>\n",
              "      <td id=\"T_cdbab_row18_col0\" class=\"data row18 col0\" >19</td>\n",
              "      <td id=\"T_cdbab_row18_col1\" class=\"data row18 col1\" >3</td>\n",
              "      <td id=\"T_cdbab_row18_col2\" class=\"data row18 col2\" >3</td>\n",
              "      <td id=\"T_cdbab_row18_col3\" class=\"data row18 col3\" >3</td>\n",
              "      <td id=\"T_cdbab_row18_col4\" class=\"data row18 col4\" >3</td>\n",
              "      <td id=\"T_cdbab_row18_col5\" class=\"data row18 col5\" >3</td>\n",
              "    </tr>\n",
              "    <tr>\n",
              "      <td id=\"T_cdbab_row19_col0\" class=\"data row19 col0\" >20</td>\n",
              "      <td id=\"T_cdbab_row19_col1\" class=\"data row19 col1\" >2</td>\n",
              "      <td id=\"T_cdbab_row19_col2\" class=\"data row19 col2\" >2</td>\n",
              "      <td id=\"T_cdbab_row19_col3\" class=\"data row19 col3\" >2</td>\n",
              "      <td id=\"T_cdbab_row19_col4\" class=\"data row19 col4\" >2</td>\n",
              "      <td id=\"T_cdbab_row19_col5\" class=\"data row19 col5\" >2</td>\n",
              "    </tr>\n",
              "  </tbody>\n",
              "</table>\n"
            ]
          },
          "metadata": {},
          "execution_count": 3
        }
      ]
    },
    {
      "cell_type": "markdown",
      "source": [
        "## What kind of data is shown in Table 2?\n",
        "* The data provided above is continuous data.\n",
        "\n",
        "* Continuous data is a type of data that can take on\n",
        "any value within a given range. In this case, the data is the measurements of the voice samples,\n",
        "which can take on any value within a given range.\n",
        "Some examples of continuous data:Temperature,Weight,Height,Time,Distance,Volume,Speed.\n",
        "\n",
        "* Attribute data, on the other hand, is a type of data that can only take on a limited number of\n",
        "values. For example, the data could be the gender of the appraisers, which can only take on two\n",
        "values: male or female.\n",
        "More examples include True or False, PAss or Fail, colors etc"
      ],
      "metadata": {
        "id": "u2STObkaLL7t"
      }
    },
    {
      "cell_type": "markdown",
      "source": [
        "## Which method would you use for measurement system analysis (MSA) to verify the repeatability and reproducibility of QA results?\n",
        "\n",
        "* The most appropriate method for MSA to verify the repeatability and reproducibility of QA\n",
        "results in this case is the ANOVA method.\n",
        "\n",
        "* In the case of the data provided, we only have one appraiser, so we would use a one-way\n",
        "NOVA to conduct the MSA. A one-way ANOVA is appropriate when you have one\n",
        "independent variable with multiple levels (groups) and you want to compare the means of the\n",
        "ependent variable across those groups. In this scenario, the independent variable (appraiser)\n",
        "has only one level, while the dependent variable is the voice sample.\n",
        "herefore, a one-way ANOVA is suitable to compare the voice samples of one appraiser and\n",
        "wo operators. It will assess whether there are statistically significant differences in the voice\n",
        "amples among the three groups (appraiser and two operators)."
      ],
      "metadata": {
        "id": "UkZ7uvIdLnSj"
      }
    },
    {
      "cell_type": "code",
      "source": [
        "# Importing library\n",
        "from scipy.stats import f_oneway\n",
        "\n",
        "# Conduct the one-way ANOVA\n",
        "f_oneway(msa_df['Master Appraiser'],\tmsa_df['John Trial 1'],\tmsa_df['John Trial 2'],\tmsa_df['Miranda Trial 1'],\tmsa_df['Miranda Trial 2'])\n"
      ],
      "metadata": {
        "colab": {
          "base_uri": "https://localhost:8080/"
        },
        "id": "aJnFQH5NKroN",
        "outputId": "2a28e474-dff2-45d0-a17d-b5c4d9c1b07d"
      },
      "execution_count": 4,
      "outputs": [
        {
          "output_type": "execute_result",
          "data": {
            "text/plain": [
              "F_onewayResult(statistic=0.3509343763581051, pvalue=0.8427961919278522)"
            ]
          },
          "metadata": {},
          "execution_count": 4
        }
      ]
    },
    {
      "cell_type": "markdown",
      "source": [
        "### Interpretation:\n",
        "* Since the P value (0.842) is greater than the significance level (0.05), so we \"Cannot Reject the Null\n",
        "Hypothesis (Accept the Null Hypothesis)\" that the means are equivalent.\n",
        "*There is no significant variation between measurements made by the appraiser. Therefore, the\n",
        "measurement system is considered to be repeatable and reproducible."
      ],
      "metadata": {
        "id": "pvKvOszYNOnP"
      }
    },
    {
      "cell_type": "markdown",
      "source": [
        "### Conclusion:\n",
        "* We have performed Measurement System Analysis on given data and provided the interpretation. Thank you for reading all the way to the end."
      ],
      "metadata": {
        "id": "0c1O4l_NN8LN"
      }
    }
  ]
}